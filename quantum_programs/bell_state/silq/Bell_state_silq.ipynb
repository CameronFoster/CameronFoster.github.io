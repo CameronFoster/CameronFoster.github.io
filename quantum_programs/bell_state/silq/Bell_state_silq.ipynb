{
 "cells": [
  {
   "cell_type": "markdown",
   "metadata": {},
   "source": [
    "# About Silq\n",
    "\n",
    "Silq is a new high-level programming language for quantum computing with a strong static type system, developed at ETH Zürich."
   ]
  },
  {
   "cell_type": "markdown",
   "metadata": {},
   "source": [
    "# Installation\n",
    "The official link https://silq.ethz.ch/install has the comands to install in vscode or in linux/Mac Os distributions."
   ]
  },
  {
   "cell_type": "markdown",
   "metadata": {},
   "source": [
    "# Bell State\n",
    "\n",
    "The simplest example for quantum computation is to generate a Bell state from the controlled-not gate to or Cnot with a previous superposition of the qubit and control with the Hadamard gate.\n",
    "\n",
    "![bell_state.png](Images/bell_state.png)"
   ]
  },
  {
   "cell_type": "markdown",
   "metadata": {},
   "source": [
    "# Program\n",
    "\n",
    "The silq code to perform the previously mentioned state of bell is described."
   ]
  },
  {
   "cell_type": "code",
   "execution_count": null,
   "metadata": {},
   "outputs": [],
   "source": [
    "// B means the boolea type \n",
    "// const mens constant value in this case in the boolean variable x\n",
    "\n",
    "def cnot(const x:B,y:B):B{ // generate the function Cnot gate\n",
    "  if x{  // if x is true  apply the sentence inside the {} \n",
    "    y := X(y);  // apply X gate in the boolean variable x\n",
    "  }\n",
    "  return y; // return the only \n",
    "}\n",
    "\n",
    "\n",
    "\n",
    "def main(){ // main function\n",
    "\n",
    "  x := false:B;    // A boolean (B type) variable x is initialized in false or zero state (|0>)\n",
    "  y := false:B;    // A boolean (B type) variable x is initialized in false or zero state (|0>)\n",
    "  x := H(x);       // Applying Hadamard to the boolean variable x\n",
    "  y := cnot(x,y);  // It called the function cnot(x,y)\n",
    "  return  measure(x,y);  // return the measure by the x and y variables or qubits.\n",
    "}\n"
   ]
  },
  {
   "cell_type": "markdown",
   "metadata": {},
   "source": [
    "### Expect output"
   ]
  },
  {
   "cell_type": "code",
   "execution_count": null,
   "metadata": {},
   "outputs": [],
   "source": [
    "(1,1)\n",
    "(0,0)"
   ]
  },
  {
   "cell_type": "markdown",
   "metadata": {},
   "source": [
    "A Python file was generated in order to plot the results obtained from the code previously made in silq"
   ]
  },
  {
   "cell_type": "code",
   "execution_count": 4,
   "metadata": {},
   "outputs": [
    {
     "data": {
      "image/png": "[encoded data removed]",
      "text/plain": [
       "<Figure size 432x288 with 1 Axes>"
      ]
     },
     "metadata": {
      "needs_background": "light"
     },
     "output_type": "display_data"
    }
   ],
   "source": [
    "import silq as sq\n",
    "\n",
    "sq.init_variables(n=50,filename=\"bell_state.sql\")\n",
    "sq.plot_hitogram()\n"
   ]
  },
  {
   "cell_type": "markdown",
   "metadata": {},
   "source": [
    "The previous silq code is in the file called bell_state.sql\n",
    "\n",
    "And if you want to use the python part to plot the result histogram is the file called silq.py"
   ]
  }
 ],
 "metadata": {
  "kernelspec": {
   "display_name": "Python 3",
   "language": "python",
   "name": "python3"
  },
  "language_info": {
   "codemirror_mode": {
    "name": "ipython",
    "version": 3
   },
   "file_extension": ".py",
   "mimetype": "text/x-python",
   "name": "python",
   "nbconvert_exporter": "python",
   "pygments_lexer": "ipython3",
   "version": "3.8.3"
  }
 },
 "nbformat": 4,
 "nbformat_minor": 4
}

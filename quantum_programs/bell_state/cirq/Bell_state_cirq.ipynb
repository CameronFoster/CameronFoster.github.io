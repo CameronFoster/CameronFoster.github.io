{
 "cells": [
  {
   "cell_type": "markdown",
   "metadata": {},
   "source": [
    "# About cirq\n",
    "\n",
    "Cirq is a software library for writing, manipulating, and optimizing quantum circuits and then running them against quantum computers and simulators. Cirq attempts to expose the details of hardware, instead of abstracting them away, because, in the Noisy Intermediate-Scale Quantum (NISQ) regime, these details determine whether or not it is possible to execute a circuit at all."
   ]
  },
  {
   "cell_type": "markdown",
   "metadata": {},
   "source": [
    "# Installation\n",
    "The official link https://cirq.readthedocs.io/en/stable/install.html has the comands to install in Docker and Windows/Linux/Mac Os X distributions."
   ]
  },
  {
   "cell_type": "markdown",
   "metadata": {},
   "source": [
    "# Bell State\n",
    "\n",
    "The simplest example for quantum computation is to generate a Bell state from the controlled-not gate to or Cnot with a previous superposition of the qubit and control with the Hadamard gate.\n",
    "\n",
    "![bell_state.png](Images/bell_state.png)"
   ]
  },
  {
   "cell_type": "markdown",
   "metadata": {},
   "source": [
    "# Program\n",
    "\n",
    "The cirq code to perform the previously mentioned state of bell is described."
   ]
  },
  {
   "cell_type": "code",
   "execution_count": 31,
   "metadata": {},
   "outputs": [
    {
     "name": "stdout",
     "output_type": "stream",
     "text": [
      "Circuit:\n",
      "(0, 0): ───H───@───M('m0')───\n",
      "               │\n",
      "(0, 1): ───────X───M('m1')───\n",
      "Results:\n",
      "m0=1110000011000110110110100000111011001101111011000101011001000000011111010110111100100110100010101011\n",
      "m1=1110000011000110110110100000111011001101111011000101011001000000011111010110111100100110100010101011\n"
     ]
    }
   ],
   "source": [
    "import cirq # call the library\n",
    "\n",
    "\n",
    "q0 = cirq.GridQubit(0, 0) # call the qubit (0,0)\n",
    "q1 = cirq.GridQubit(0, 1) # call the qubit (0,1)\n",
    "\n",
    "\n",
    "circuit = cirq.Circuit() # call the method circuit\n",
    "\n",
    "\n",
    "circuit.append(cirq.H(q0)) # adder  in the circuit the Hadamard gate in q0 \n",
    "circuit.append(cirq.CX(q0,q1)) # adder in the circuit the CX or Cnot gate between q0 and q1\n",
    "\n",
    "circuit.append(cirq.measure(q0, key='m0'))  # adder the measure in q0\n",
    "circuit.append(cirq.measure(q1, key='m1')) # adder the measure in q1\n",
    "\n",
    "print(\"Circuit:\")\n",
    "print(circuit) # print the circuit at this moment\n",
    "\n",
    "# Simulate the circuit.\n",
    "\n",
    "shots = 100 # number of shots in the simulation\n",
    "simulator = cirq.Simulator() # call the Simulator method\n",
    "result = simulator.run(circuit, repetitions=shots) # run the circuit in shots time (100 times)\n",
    "print(\"Results:\")\n",
    "print(result) # show the results"
   ]
  },
  {
   "cell_type": "code",
   "execution_count": 32,
   "metadata": {},
   "outputs": [
    {
     "data": {
      "image/png": "[encoded data removed]",
      "text/plain": [
       "<Figure size 432x288 with 1 Axes>"
      ]
     },
     "metadata": {
      "needs_background": "light"
     },
     "output_type": "display_data"
    },
    {
     "name": "stdout",
     "output_type": "stream",
     "text": [
      "Probabiity = [0.49 0.   0.   0.51]\n"
     ]
    }
   ],
   "source": [
    "counts = cirq.plot_state_histogram(result) # cal the method to generate a plot \n",
    "print(\"Probabiity =\", counts/shots) # print the probabilities of every qubit_state"
   ]
  }
 ],
 "metadata": {
  "kernelspec": {
   "display_name": "Python 3",
   "language": "python",
   "name": "python3"
  },
  "language_info": {
   "codemirror_mode": {
    "name": "ipython",
    "version": 3
   },
   "file_extension": ".py",
   "mimetype": "text/x-python",
   "name": "python",
   "nbconvert_exporter": "python",
   "pygments_lexer": "ipython3",
   "version": "3.8.3"
  }
 },
 "nbformat": 4,
 "nbformat_minor": 4
}
